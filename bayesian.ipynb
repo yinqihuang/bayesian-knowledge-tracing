{
  "nbformat": 4,
  "nbformat_minor": 0,
  "metadata": {
    "colab": {
      "name": "bayesian.ipynb",
      "provenance": []
    },
    "kernelspec": {
      "name": "python3",
      "display_name": "Python 3"
    }
  },
  "cells": [
    {
      "cell_type": "markdown",
      "metadata": {
        "id": "q0DxQTLow2t6"
      },
      "source": [
        "model of a domain knowledge: atoms (Q) \n",
        "{a, b, c, d, e} \n",
        "\n",
        "model of knowledge space: combinatorial structure (K) \n",
        "all feasible subsets \n",
        "\n",
        "{a, b} {a, b, c} {d, e} \n",
        "\n",
        " \n",
        "\n",
        "current state: {a, b} \n",
        "how to make suggestions? \n",
        "look up the knowledge space for immediate superset: {a, b, c} "
      ]
    },
    {
      "cell_type": "markdown",
      "metadata": {
        "id": "CdhJ1h2lbyHm"
      },
      "source": [
        "1. pL – latent (mastery) \n",
        "2. pT – transition (learning) \n",
        "3. pG – guess \n",
        "4. pS – slip \n",
        "5. Learning order (K) \n",
        "6. Problem difficulty \n",
        "7. Prior knowledge \n",
        "\n",
        "\n"
      ]
    },
    {
      "cell_type": "code",
      "metadata": {
        "id": "lmFteXR1mZiD"
      },
      "source": [
        "#@title Initialize Parameters\n",
        "\n",
        "import numpy as np\n",
        "\n",
        "def initialize_parameters(pL, pT, pS, pG):\n",
        "  \n",
        "  np.random.seed(1)\n",
        "\n",
        "  pL =  np.random.randn(1)\n",
        "  pT =  np.random.randn(1)\n",
        "  pS =  np.random.randn(1)\n",
        "  pG =  np.random.randn(1)\n",
        "\n",
        "  parameters = {\n",
        "      'pL': pL,\n",
        "      'pT': pT,\n",
        "      'pS': pS,\n",
        "      'pG': pG\n",
        "  }\n",
        "\n",
        "  return parameters"
      ],
      "execution_count": null,
      "outputs": []
    },
    {
      "cell_type": "markdown",
      "metadata": {
        "id": "AUa4OCTVcFVp"
      },
      "source": [
        "$Equation (a): {\\displaystyle p(L_{1})_{u}^{k}=p(L_{0})^{k}}$"
      ]
    },
    {
      "cell_type": "markdown",
      "metadata": {
        "id": "Eku1pTvjcNmR"
      },
      "source": [
        "$Equation (b): {\\displaystyle p(L_{t}|obs=correct)_{u}^{k}={\\frac {p(L_{t})_{u}^{k}\\cdot (1-p(S)^{k})}{p(L_{t})_{u}^{k}\\cdot (1-p(S)^{k})+(1-p(L_{t})_{u}^{k})\\cdot p(G)^{k}}}}$"
      ]
    },
    {
      "cell_type": "code",
      "metadata": {
        "id": "xa1A1zDnvJFl"
      },
      "source": [
        "#@title Eq. b\n",
        "\n",
        "# Two state (0 or 1)\n",
        "# 0 when pL < 0.5; 1 when pL >= 0.5\n",
        "\n",
        "def correct_latent(pL, pS, pG, T):\n",
        "\n",
        "  parameters = {}\n",
        "\n",
        "  for t in range(T-1):\n",
        "    parameters['pL_correct_obs' + str(t)] = np.dot(pL, (1 - pS))/(np.dot(pL, (1 - pS)) + np.dot((1 - pL), pG))\n",
        "\n",
        "  return 'pL_correct_obs' + str(t)"
      ],
      "execution_count": null,
      "outputs": []
    },
    {
      "cell_type": "markdown",
      "metadata": {
        "id": "E4hzcIgLcTOw"
      },
      "source": [
        "$Equation (c): {\\displaystyle p(L_{t}|obs=wrong)_{u}^{k}={\\frac {p(L_{t})_{u}^{k}\\cdot p(S)^{k}}{p(L_{t})_{u}^{k}\\cdot p(S)^{k}+(1-p(L_{t})_{u}^{k})\\cdot (1-p(G)^{k})}}}$"
      ]
    },
    {
      "cell_type": "code",
      "metadata": {
        "id": "BmjBGm2w0QvW"
      },
      "source": [
        "#@title Eq. c\n",
        "\n",
        "# Two state (0 or 1)\n",
        "# 0 when pL < 0.5; 1 when pL >= 0.5\n",
        "\n",
        "def wrong_latent(pL, pS, pG, T):\n",
        "\n",
        "  parameters = {}\n",
        "\n",
        "  for t in range(T-1):\n",
        "    parameters['pL_wrong_obs' + str(t)] = np.dot(pL, pS)/(np.dot(pL, pS) + np.dot((1 - pL), (1 - pG)))\n",
        "\n",
        "  return 'pL_wrong_obs' + str(t)"
      ],
      "execution_count": null,
      "outputs": []
    },
    {
      "cell_type": "markdown",
      "metadata": {
        "id": "FUSj23c7cW94"
      },
      "source": [
        "$Equation (d): {\\displaystyle p(L_{t+1})_{u}^{k}=p(L_{t}|obs)_{u}^{k}+(1-p(L_{t}|obs)_{u}^{k})\\cdot p(T)^{k}}$"
      ]
    },
    {
      "cell_type": "code",
      "metadata": {
        "id": "47PXOPHi0xQ4"
      },
      "source": [
        "#@title Eq. d\n",
        "\n",
        "def update_latent(pL_obs, pT, T, condition):\n",
        "\n",
        "  parameters = {}\n",
        "\n",
        "  if condition == 'correct':  \n",
        "    for t in range(T-1):\n",
        "      pL = 'pL_correct_obs' + str(t)\n",
        "      parameters['pL' + str(t + 1)] = pL + np.multiply((1 - pL), pT)\n",
        "\n",
        "  elif condition == 'wrong':  \n",
        "    for t in range(T-1):\n",
        "      pL = 'pL_wrong_obs' + str(t)\n",
        "      parameters['pL' + str(t + 1)] = pL + np.multiply((1 - pL), pT)\n",
        "  \n",
        "  return 'pL' + str(t + 1)"
      ],
      "execution_count": null,
      "outputs": []
    },
    {
      "cell_type": "markdown",
      "metadata": {
        "id": "cZyJRE8gcdua"
      },
      "source": [
        "$Equation (e): {\\displaystyle p(C_{t+1})_{u}^{k}=p(L_{t+1})_{u}^{k}\\cdot (1-p(S)^{k})+(1-p(L_{t+1})_{u}^{k})\\cdot p(G)^{k}}$"
      ]
    },
    {
      "cell_type": "code",
      "metadata": {
        "id": "Uh9nb2AXrdrM"
      },
      "source": [
        "#@title Eq. e\n",
        "\n",
        "def observation(pL, pS, pG, T):\n",
        "\n",
        "  parameters = {}\n",
        "\n",
        "  for t in range(T-1):\n",
        "    parameters['pC' + str(t + 1)] = np.dot(pL, (1 - pS)) + np.dot((1 - pL), pG)\n",
        "\n",
        "  return 'pC' + str(t + 1)"
      ],
      "execution_count": null,
      "outputs": []
    },
    {
      "cell_type": "markdown",
      "metadata": {
        "id": "kl7Goqmsce7Y"
      },
      "source": [
        "$Equation (f): {\\displaystyle p(G_{t+1})^{k}=p(G_{t}|obs)^{k}+p(T)^{k}}$"
      ]
    },
    {
      "cell_type": "code",
      "metadata": {
        "id": "eGAYg-sASqyV"
      },
      "source": [
        "#@title Eq. f\n",
        "#pT: prob of this item is learnable in 1t\n",
        "#is this also pT: how likely the person will learn (related to personal motives, comprehension etc)\n",
        "\n",
        "def update_guess(pG, pT, learning_rate, T):\n",
        "\n",
        "  parameters = {}\n",
        "\n",
        "  for t in range(T-1):\n",
        "    #parameters['pG' + str(t + 1)] = pG + np.multiply(learning_rate, pT)\n",
        "    parameters['pG' + str(t + 1)] = pG + pT\n",
        "\n",
        "  assert pG < pC\n",
        "\n",
        "  return 'pG' + str(t + 1)"
      ],
      "execution_count": null,
      "outputs": []
    },
    {
      "cell_type": "markdown",
      "metadata": {
        "id": "5T9tiJapciV6"
      },
      "source": [
        "$Equation (g): {\\displaystyle p(S_{t+1})^{k}=p(S_{t}|obs)^{k}+p(T)^{k}}$"
      ]
    },
    {
      "cell_type": "code",
      "metadata": {
        "id": "OhoBhspvWBLF"
      },
      "source": [
        "#@title Eq. g\n",
        "\n",
        "def update_slip(pS, pT, learning_rate, T):\n",
        "\n",
        "  parameters = {}\n",
        "\n",
        "  for t in range(T-1):\n",
        "    #parameters['pS' + str(t + 1)] = pS - np.multiply(learning_rate, pT)\n",
        "    parameters['pS' + str(t + 1)] = pS - pT\n",
        "\n",
        "  assert pL_wrong_obs < pS\n",
        "\n",
        "  return 'pS' + str(t + 1)"
      ],
      "execution_count": null,
      "outputs": []
    },
    {
      "cell_type": "markdown",
      "metadata": {
        "id": "koJ4xS2ocso8"
      },
      "source": [
        "$Equation (h): {\\displaystyle p(T_{t})^{k}= \\frac{p(L_{t+1})_{u}^{k}-p(L_{t})_{u}^{k}}{1-p(L_{t})_{u}^{k}}}$"
      ]
    },
    {
      "cell_type": "code",
      "metadata": {
        "id": "xFCb0jHEb4Bv"
      },
      "source": [
        "#@title Eq. h\n",
        "\n",
        "#learning order matters\n",
        "#def pT -> [0,1] \n",
        "#forgetting for pT -> could it be [-1,1]\n",
        "\n",
        "def update_transition(pL_obs, pT, T, condition):\n",
        "\n",
        "  parameters = {}\n",
        "\n",
        "  if condition == 'correct':  \n",
        "    for t in range(T-1):\n",
        "      pL1 = 'pL_correct_obs' + str(t)\n",
        "      pL2 = 'pL_correct_obs' + str(t + 1)\n",
        "      parameters['pT' + str(t)] =  np.divide((pL2 - pL1), (1 - pL1))\n",
        "\n",
        "  elif condition == 'wrong':  \n",
        "    for t in range(T-1):\n",
        "      pL1 = 'pL_wrong_obs' + str(t)\n",
        "      pL2 = 'pL_wrong_obs' + str(t + 1)\n",
        "      parameters['pT' + str(t)] =  np.divide((pL2 - pL1), (1 - pL1))\n",
        "      \n",
        "  assert -1 <= 'pT' + str(t) <= 1\n",
        "  \n",
        "  return 'pT' + str(t)"
      ],
      "execution_count": null,
      "outputs": []
    },
    {
      "cell_type": "markdown",
      "metadata": {
        "id": "hliEMZ2re1AR"
      },
      "source": [
        "Remaining questions: <br/>\n",
        "1. reduce pS <br/>\n",
        "2. how to measure program effectiveness"
      ]
    }
  ]
}